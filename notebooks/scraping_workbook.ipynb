{
 "cells": [
  {
   "cell_type": "code",
   "execution_count": null,
   "metadata": {},
   "outputs": [],
   "source": [
    "import psycopg2\n",
    "import os\n",
    "from dotenv import load_dotenv\n",
    "import pandas as pd\n",
    "from matplotlib.pyplot import subplots\n",
    "from bs4 import BeautifulSoup\n",
    "\n",
    "load_dotenv()\n",
    "\n",
    "database_password = os.environ.get(\"DATABASE_PASSWORD\")\n",
    "database_username = os.environ.get(\"DATABASE_USERNAME\")\n",
    "database_host = os.environ.get(\"DATABASE_HOST\")\n",
    "database_port = os.environ.get(\"DATABASE_PORT\")\n",
    "database_name = os.environ.get(\"DATABASE_NAME\")\n",
    "\n",
    "connection = psycopg2.connect(database=database_name,\n",
    "                        host=database_host,\n",
    "                        user=database_username,\n",
    "                        password=database_password,\n",
    "                        port=database_port)"
   ]
  },
  {
   "cell_type": "markdown",
   "metadata": {},
   "source": []
  },
  {
   "cell_type": "code",
   "execution_count": null,
   "metadata": {},
   "outputs": [],
   "source": [
    "def check_and_create_table(conn, table_name: str, create_table_sql: str) -> int:\n",
    "    try:\n",
    "        cursor = conn.cursor()\n",
    "        cursor.execute(\"SELECT EXISTS(SELECT * FROM information_schema.tables WHERE table_name=%s);\", (table_name,))\n",
    "        \n",
    "        exists = cursor.fetchone()[0]\n",
    "\n",
    "        if not exists:\n",
    "            cursor.execute(create_table_sql)\n",
    "            conn.commit()\n",
    "            print(f\"Table {table_name} created successfully\")\n",
    "        else:\n",
    "            print(f\"Table {table_name} already exists\")\n",
    "\n",
    "        cursor.close()\n",
    "        return 0\n",
    "\n",
    "    except (Exception, psycopg2.DatabaseError) as error:\n",
    "        print(f\"Error: {error}”\")\n",
    "        cursor.close()\n",
    "        return 1"
   ]
  },
  {
   "cell_type": "code",
   "execution_count": null,
   "metadata": {},
   "outputs": [],
   "source": [
    "create_scrapes_extracted_sql = \"\"\"\n",
    "CREATE TABLE scrapes_extracted (scrapeid INT PRIMARY KEY)\"\"\"\n",
    "\n",
    "check_and_create_table(conn=connection, table_name=\"scrapes_extracted\", create_table_sql=create_scrapes_extracted_sql)"
   ]
  },
  {
   "cell_type": "code",
   "execution_count": null,
   "metadata": {},
   "outputs": [],
   "source": [
    "# Add scrapes_extracted columns\n",
    "cursor = connection.cursor()\n",
    "try:\n",
    "    cursor.execute(\"\"\"ALTER TABLE scrapes_extracted\n",
    "                   ADD COLUMN IF NOT EXISTS title TEXT;              \n",
    "\"\"\")  \n",
    "except (Exception, psycopg2.DatabaseError) as error:\n",
    "    print(f\"Error: {error}”\") \n",
    "cursor.close()\n",
    "connection.commit()"
   ]
  },
  {
   "cell_type": "code",
   "execution_count": null,
   "metadata": {},
   "outputs": [],
   "source": [
    "cursor = connection.cursor()\n",
    "try:\n",
    "    cursor.execute(\"\"\"SELECT scrapes.scrapeid, scrapes.html\n",
    "FROM scrapes\n",
    "LEFT JOIN scrapes_extracted on scrapes.scrapeid = scrapes_extracted.scrapeid\n",
    "WHERE scrapes_extracted.scrapeid IS NULL\n",
    "AND scrapes.scrapeid > 5\n",
    "\"\"\")\n",
    "except (Exception, psycopg2.DatabaseError) as error:\n",
    "    print(f\"Error: {error}”\")\n",
    "    cursor.close()\n",
    "\n",
    "for row in cursor:\n",
    "    soup = BeautifulSoup(markup=row[1], features=\"lxml\")\n",
    "    job_title = soup.find(\"h1\")\n",
    "    if job_title:\n",
    "        job_title_text = job_title.text.strip()\n",
    "        print(job_title_text)\n",
    "        print(int(row[0]))\n",
    "        inner_cursor = connection.cursor()\n",
    "        try:\n",
    "            inner_cursor.execute(\"\"\"INSERT INTO scrapes_extracted (scrapeid, title)\n",
    "                           VALUES (%s, %s)\"\"\", (int(row[0]), job_title_text))\n",
    "        except (Exception, psycopg2.DatabaseError) as error:\n",
    "            print(f\"Error: {error}”\")\n",
    "\n",
    "        inner_cursor.close()\n",
    "    else:\n",
    "        print(f\"Job title not found for scrapeid {row[0]}\")\n",
    "\n",
    "cursor.close()\n",
    "connection.commit()"
   ]
  }
 ],
 "metadata": {
  "kernelspec": {
   "display_name": ".venv",
   "language": "python",
   "name": "python3"
  },
  "language_info": {
   "codemirror_mode": {
    "name": "ipython",
    "version": 3
   },
   "file_extension": ".py",
   "mimetype": "text/x-python",
   "name": "python",
   "nbconvert_exporter": "python",
   "pygments_lexer": "ipython3",
   "version": "3.11.1"
  }
 },
 "nbformat": 4,
 "nbformat_minor": 2
}
